{
 "cells": [
  {
   "cell_type": "code",
   "execution_count": null,
   "id": "d15014d9",
   "metadata": {},
   "outputs": [],
   "source": [
    "# Qué es Jupyter Notebook\n",
    "\n",
    "Se trata de un programa que permite tener documentos hechos con celdas.\n",
    "\n",
    "En cada celda puede haber **código** o **texto**.\n",
    "\n",
    "Esta celda que estás leyendo tiene texto. En la que hay debajo tienes código.\n",
    "```\n",
    "Antes de empezar, haz click en el espacio grande blanco que hay a la izquierda, para ver un marco azul alrededor de este texto.\n",
    "```"
   ]
  },
  {
   "cell_type": "code",
   "execution_count": null,
   "id": "61f56f21",
   "metadata": {},
   "outputs": [],
   "source": [
    "print(\"hola\")"
   ]
  },
  {
   "cell_type": "markdown",
   "id": "d11d990c",
   "metadata": {},
   "source": [
    "## Modos de funcionamiento\n",
    "Una celda puede estar preparada para escribir dentro (modo de edición) o no (modo de navegación).\n",
    "\n",
    "El modo de edición tiene un marco verde alrededor. El modo de navegación tiene un marco azul.\n",
    "\n",
    "- ENTER - para entrar en el modo de edición\n",
    "- ESC - para salir del modo de edición y entrar en navegación\n",
    "\n",
    "### Ejercicio:\n",
    "Aquí debajo tienes una celda: Pincha en ella para escribir dentro. Pon el número <code>5</code>. Después pulsa <code>ESC</code>, y finalmente el número 5 otra vez.\n",
    "Pulsa enter y describe lo que ha pasado.\n"
   ]
  },
  {
   "cell_type": "markdown",
   "id": "394b4dce",
   "metadata": {},
   "source": [
    "55\n",
    "se ha cambiado de renglón"
   ]
  },
  {
   "cell_type": "markdown",
   "id": "7c947b7f",
   "metadata": {},
   "source": [
    "### Navegación\n",
    "Estando en este modo puedes usar estas teclas:\n",
    "- ENTER - para abandonar la navegación y entrar a escribir dentro de la celda\n",
    "- flechas del cursor - para ir arriba o abajo en el documento\n",
    "- B - para crear una celda nueva debajo de la actual\n",
    "- A - para crear una celda nueva encima\n",
    "- M - para convertir la celda a tipo de texto\n",
    "- Y - para convertir la celda a código\n",
    "- DD - para borrar la celda\n",
    "- C - para copiar la celda\n",
    "- V - para pegar la celda copiada\n",
    "- Ctrl + Enter - para ejecutar el contenido de la celda\n",
    "\n",
    "### Edición\n",
    "> Recuerda: En el modo verde, puedes usar:\n",
    "> - Ctrl + Enter - para ejecutar el contenido de la celda (y salir del modo de edición si estás en una celda de texto)\n",
    "> - ESC - para salir del modo de edición.\n",
    "El resto de teclas se quedan escritas dentro de la celda.\n",
    "\n",
    "### Usar el ratón y el menú\n",
    "Como es normal, también puedes usar el ratón para moverte por el documento. Con **click** dentro del espacio de escribir, entrarás en el modo de edición para escribir dentro de la celda. Si pinchas fuera, sales del modo de edición.\n",
    "\n",
    "### Ejercicio:\n",
    "Crea aquí debajo una celda. Tienes que situar primero el marco azul alrededor de esta celda (navega con las flechas del teclado, o pincha con el ratón en el espacio blanco de la izquierda). Después pulsa la tecla B"
   ]
  },
  {
   "cell_type": "markdown",
   "id": "395a93a1",
   "metadata": {},
   "source": [
    "Si lo has hecho bien, se ha generado una nueva celda aquí arriba. Y si está verde, puedes escribir dentro.\n",
    "\n",
    "## Modo ```Código``` y modo ```Markdown```"
   ]
  },
  {
   "cell_type": "markdown",
   "id": "51b1d5ff",
   "metadata": {},
   "source": [
    "## Celdas de código\n",
    "\n",
    "Tienen una marca en el lado izquierdo, con el mensaje in[], que indicará el orden en el que se ha ejecutado ese fragmento de código.\n",
    "\n",
    "En estas celdas se escriben instrucciones de programación, en el lenguaje que tengamos configurado. En nuestro caso, en **Python**.\n",
    "\n",
    "### Ejecutar\n",
    "\n",
    "Se trata de hacer que Jupyter *interprete* lo que hemos escrito y produzca un resultado. Se usan las teclas **Ctrl** y **Enter** a la vez.\n",
    "\n",
    "> #### Ejercicio\n",
    ">Ejecuta la celda que hay con un programa aquí debajo.\n"
   ]
  },
  {
   "cell_type": "code",
   "execution_count": null,
   "id": "e67a09c0",
   "metadata": {},
   "outputs": [],
   "source": [
    "for i in range(3):\n",
    "    print(i)\n",
    "print(\"programa terminado\")"
   ]
  },
  {
   "cell_type": "markdown",
   "id": "bb8e6e63",
   "metadata": {},
   "source": [
    "## Celdas de texto\n",
    "En realidad contienen elementos de código de un lenguaje llamado **markdown**. Es una especie de abreviatura del código **html** que se usa para hacer páginas web.\n",
    "Por eso, cuando las vamos escribiendo podemos ver cómo el signo # ayuda a hacer encabezados, y los asteriscos enmarcan las negritas y las itálicas.\n",
    "- **\\*** sirve para encuadrar las itálicas: \\*palabras en itálicas\\* se convierte en *palabras en itálica*.\n",
    "- **\\*\\*** sirve para encuadrar las **negritas** (se escribe \\*\\*negritas\\*\\*)\n",
    "- Para hacer un encabezado, se escribe **#** seguido de un espacio, y después el texto. El encabezado de esta celda se ha escrito escribiendo <code>## Celdas de Texto</code>. Cuantos más #, más pequeño será el encabezado. El máximo es 6.\n",
    "- Para hacer una lista, se usa **-** seguido de espacio.\n",
    "- Si queremos una lista dentro de otra lista, hay que poner tres espacios antes del signo **-**.\n",
    "- Se puede escribir código *html* con las etiquetas usuales < >.\n",
    "\n",
    "> ### Ejercicio:\n",
    "Debajo tienes dos celdas, que todavía no están \"ejecutadas\". Por lo tanto, en el texto se ven los códigos *markdown*.  \n",
    "Ejecutar es *interpretar* el código para producir el resultado deseado. Colócate sobre esas celdas, y pulsa a la vez las teclas **Control** y **Enter** (en realidad puedes pulsar primero Ctrl, y sin soltarla pulsar Enter después)."
   ]
  },
  {
   "cell_type": "markdown",
   "id": "6a76668d",
   "metadata": {},
   "source": [
    "Como puedes ver, en esta celda se ve texto normal, y texto con color azul, y algunos signos como asteriscos y otros.\n",
    "\n",
    "#### Esto se verá como un encabezado de cuarto nivel.\n",
    "El primer nivel es el más importante, y se usará para los *capítulos* de este documento. Los de segundo nivel son como *subcapítulos*.\n",
    "\n",
    "Para separar párrafos hay que usar un doble salto de línea entre ellos.\n",
    "\n",
    "Sin embargo, si no pongo ese salto de línea extra, el segundo párrafo se unirá al primero.\n",
    "Esto se puede comprobar luego, al ejecutar el contenido de esta celda, pero para volver a ver cómo era en *código*, hay que entrar otra vez al modo de edición.\n",
    "\n",
    "- Aquí comienza una **lista**\n",
    "   - Las listas cambian su color según el nivel.\n",
    "   - para hacer este segundo nivel he tenido que escribir tres espacios antes de <code>Las listas</code>, pero al terminar, la nueva línea ya los tiene, y tendríamos que quitarlos si hemos terminado ese nivel\n",
    "- ... que es lo que he hecho aquí.\n",
    "\n",
    "Se pueden usar los asteriscos para poner cursivas o negritas incluso dentro de una p**a**la*br*a."
   ]
  },
  {
   "cell_type": "markdown",
   "id": "1b7533c2",
   "metadata": {},
   "source": [
    "En esta celda combino lo anterior con un nuevo signo: **>**\n",
    "\n",
    "Sirve para hacer ***citas***. \n",
    "\n",
    "> Lo que hay aquí se mueve a la derecha y una línea gris a la izquierda realza la *cita*.\n",
    "> En ellas, podría poner ejemplos literales de programas:\n",
    ">> print(\"hola\")\n",
    "> pero queda mejor si lo hacemos con un *bloque* de ***código***, que se hace poniendo cuatro espacios antes del texto:\n",
    "\n",
    "    print(\"Esto es un ejemplo de bloque de código\")\n",
    "    num = int(input(\"pon un número ))\n",
    "\n",
    "O usando el acento al revés (*backtick*) \\`. Si uso uno, se escribe el `código en línea`. Si uso tres, hago un bloque y puedo poner tras ellos el lenguaje, para que aparezcan colores y se vea mejor.\n",
    "\n",
    "```python\n",
    "print(\"Este ejemplo es mejor\")\n",
    "print(\"con tres ` y la palabra python, estas funciones se colorean\")\n",
    "```\n",
    "\n",
    "### También puedo combinar todas estas cosas\n",
    "> #### **citas** con encabezados y `funciones(\"con aspecto de código\")`.\n",
    "> - y listas dentro"
   ]
  },
  {
   "cell_type": "markdown",
   "id": "496c1f3d",
   "metadata": {},
   "source": [
    "## Un poco más de Python\n",
    "\n",
    "Ahora vamos a usar celdas de código.\n",
    "\n",
    "### Normás básicas:\n",
    "- Cualquier **palabra** que escribimos en nuestro programa debe ser:\n",
    "   - Una **palabra reservada** especial de Python, como por ejemplo **for**, **in**, **def**, **if** o **break**, entre otras.\n",
    "   - Un nombre de variable. Las variables las debemos crear nosotros con una instrucción especial: el signo igual **```=```**\n",
    "   - Un nombre de función. Viene a ser casi como un nombre de variable, pero se refiere a un fragmento de programa (que puede estar escondido en algún lugar de nuestras bibliotecas de Python), y que debe llevar paréntesis tras el nombre: **```()```**\n",
    "- Un fragmento de programa se debe escribir siempre con la misma alineación izquierda. No podemos poner delante de una línea dos espacios y en la siguiente cuatro.\n",
    "  - Puede empezarse un fragmento nuevo con una instrucción que permita hacerlo, terminando esa línea con dos puntos, **```:```**\n",
    "  - Se termina el **bloque** o fragmento cuando volvemos a la alineación izquierda anterior.\n",
    "- Algunas instrucciones permiten usar operadores, tales como la suma, ```+```, la multiplicación, ```*```, o los signos de mayor y menor, ```<``` y ```>```.\n",
    "\n",
    "#### Ejemplos:\n",
    "\n",
    "<table style=\"width: 100%; padding: 6px;\"><tr><td style=\"text-align: left;\">\n",
    "    a = input(\"Escribe tu nombre\")<br>\n",
    "        print(\"Hola,\", a)<br>\n",
    "    print(3+2)\n",
    "    </td><td style=\"text-align: left;\">a = input(\"Escribe tu nombre\")<br>&nbsp;&nbsp;&nbsp;&nbsp;print(\"Hola,\", a)   # Mala alineación<br>print(8*2)</td></tr></table>\n",
    "    \n",
    "### Ejercicio: Crear una variable.\n",
    "Las variables se crean poniéndoles un nombre, y, a continuación asignando un contenido, para lo cual se usa el signo igual:\n",
    "\n",
    "```python\n",
    "color = \"verde\"\n",
    "```\n",
    "\n",
    "Crea una nueva celda aquí debajo, y en ella asigna el valor 5 a la variable num1, y el valor 3 a la variable num2. A continuación, suma las dos variables.\n",
    "\n",
    "Cuando hayas terminado, guarda este cuaderno (está en la carpeta *Documentos*, si todo lo has hecho bien), y súbelo a Moodle."
   ]
  },
  {
   "cell_type": "code",
   "execution_count": 1,
   "id": "5bd777c9",
   "metadata": {},
   "outputs": [
    {
     "data": {
      "text/plain": [
       "8"
      ]
     },
     "execution_count": 1,
     "metadata": {},
     "output_type": "execute_result"
    }
   ],
   "source": [
    "num1=5\n",
    "num2=3\n",
    "num1+num2"
   ]
  }
 ],
 "metadata": {
  "kernelspec": {
   "display_name": "Python 3.8.5 64-bit",
   "language": "python",
   "name": "python3"
  },
  "language_info": {
   "codemirror_mode": {
    "name": "ipython",
    "version": 3
   },
   "file_extension": ".py",
   "mimetype": "text/x-python",
   "name": "python",
   "nbconvert_exporter": "python",
   "pygments_lexer": "ipython3",
   "version": "3.8.5"
  },
  "vscode": {
   "interpreter": {
    "hash": "916dbcbb3f70747c44a77c7bcd40155683ae19c65e1c03b4aa3499c5328201f1"
   }
  }
 },
 "nbformat": 4,
 "nbformat_minor": 5
}
