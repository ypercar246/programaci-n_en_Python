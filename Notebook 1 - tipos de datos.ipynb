{
 "cells": [
  {
   "cell_type": "markdown",
   "metadata": {},
   "source": [
    "## Tarea:\n",
    "- **Lee las celdas de texto, y ejecuta las celdas en las que hay código.** La idea principal es entender lo que lees y lo que se ha preparado como ejemplo.\n",
    "- **Escribe tu nombre, debajo de esta celda, en el espacio indicado.**\n",
    "- **En las celdas vacías de código, debes completar el ejercicio propuesto.**\n",
    "- **Guarda el documento.** (botón del disco flexible o menú *file*)\n",
    "- **Agrega el documento en la tarea de Moodle**."
   ]
  },
  {
   "cell_type": "markdown",
   "metadata": {},
   "source": [
    "**Alumno/a:**\n",
    "\n",
    "___________________________________________________"
   ]
  },
  {
   "cell_type": "markdown",
   "metadata": {
    "id": "C0_7EXdLBfri"
   },
   "source": [
    "Este Notebook ha sido tomado del curso básico del Instituto Humai (Argentina), y tiene modificaciones de Antonio Contreras (IES José de Mora)."
   ]
  },
  {
   "cell_type": "markdown",
   "metadata": {},
   "source": [
    "## ¡¡¡LEE, LEE, LEE!!!\n",
    "El texto explica conceptos que tienes que aprender y manejar."
   ]
  },
  {
   "cell_type": "markdown",
   "metadata": {
    "id": "AcoLjYP-NWpd"
   },
   "source": [
    "# Declarando variables <a name=\"section-2\"></a>"
   ]
  },
  {
   "cell_type": "markdown",
   "metadata": {
    "id": "oFtrilzdZHCG"
   },
   "source": [
    "Existen distintos tipos de variables:\n",
    "- int: entero\n",
    "- float: punto flotante\n",
    "- string: cadena de caracteres\n",
    "- bool: booleano, 0, 1, True o False\n",
    "\n",
    "Y estructuras de datos, como:\n",
    "  - list: lista de elementos (de cualquier tipo, incluida otra lista)\n",
    "  - dict: \"diccionario\", conjunto de pares llave:valor\n",
    "  \n",
    "Veamos un primer ejemplo"
   ]
  },
  {
   "cell_type": "code",
   "execution_count": null,
   "metadata": {
    "id": "bcYiG0dVBfrt"
   },
   "outputs": [],
   "source": [
    "primera_variable = 'Hola mundo!'\n",
    "\n",
    "print(primera_variable)"
   ]
  },
  {
   "cell_type": "markdown",
   "metadata": {
    "id": "vw8DIAatBfrv"
   },
   "source": [
    "Declaramos una variable llamada *primera_variable* asignándole el valor de \"Hola mundo!\". La **función print** toma entre paréntesis esa variable y muestra el valor en pantalla.\n",
    "\n",
    "En Jupyter la última expresión *calculable* de una celda se imprime al ejecutar (Ctrl + Enter)."
   ]
  },
  {
   "cell_type": "code",
   "execution_count": null,
   "metadata": {
    "id": "1deNvgr6Bfrw"
   },
   "outputs": [],
   "source": [
    "primera_variable"
   ]
  },
  {
   "cell_type": "markdown",
   "metadata": {},
   "source": [
    "Verás que la primera celda muestra debajo el **resultado** de las funciones que puedan dar información en pantalla, como es el caso de `print()`. La segunda celda también muestra información, pero solamente la última que sea resultado de una operación o expresión.\n",
    "### Ejercicio\n",
    "En la celda siguiente, escribe tres veces la instrucción `print()` tal cual aparece en la primera celda de código que has ejecutado.\n",
    "\n",
    "En la segunda, escribe tres veces el nombre de la variable, igual que en la celda que ejecutaste antes de este texto.\n",
    "\n",
    "Comprueba la diferencia en la información que aparece, y escríbelo en la última de las celdas siguientes."
   ]
  },
  {
   "cell_type": "code",
   "execution_count": null,
   "metadata": {},
   "outputs": [],
   "source": [
    "print () print() print ()"
   ]
  },
  {
   "cell_type": "code",
   "execution_count": null,
   "metadata": {},
   "outputs": [],
   "source": []
  },
  {
   "cell_type": "markdown",
   "metadata": {},
   "source": [
    "*La diferencia es:*\n"
   ]
  },
  {
   "cell_type": "markdown",
   "metadata": {
    "id": "YopuKOGuBfrx"
   },
   "source": [
    "## Variables numéricas"
   ]
  },
  {
   "cell_type": "markdown",
   "metadata": {
    "id": "mgvyq-eoBfrx"
   },
   "source": [
    "Declaramos dos variables de tipo numérico:"
   ]
  },
  {
   "cell_type": "code",
   "execution_count": null,
   "metadata": {
    "hidePrompt": true,
    "id": "mfxF76C4ZGJK"
   },
   "outputs": [],
   "source": [
    "# Ejecuta esta celda\n",
    "x = 5\n",
    "y = 17"
   ]
  },
  {
   "cell_type": "markdown",
   "metadata": {
    "id": "p-cxpa0iBfry"
   },
   "source": [
    "Podemos hacer las operaciones numéricas usuales:"
   ]
  },
  {
   "cell_type": "code",
   "execution_count": null,
   "metadata": {
    "hidePrompt": true,
    "id": "vhBUJlHcBfry"
   },
   "outputs": [],
   "source": [
    "print(x+y) # suma\n",
    "print(x*2) # multiplicacion\n",
    "print(x**(1/2)) # elevado a 1/2\n",
    "# Ejecuta esta celda"
   ]
  },
  {
   "cell_type": "markdown",
   "metadata": {
    "id": "Sj-xDo0jBfrz"
   },
   "source": [
    "## Operaciones numéricas - Divisiones"
   ]
  },
  {
   "cell_type": "markdown",
   "metadata": {
    "id": "HPKXMjz-Bfr0"
   },
   "source": [
    "Devuelve la división:"
   ]
  },
  {
   "cell_type": "code",
   "execution_count": null,
   "metadata": {
    "id": "84M5F7oQBfr0"
   },
   "outputs": [],
   "source": [
    "print(y / x)"
   ]
  },
  {
   "cell_type": "markdown",
   "metadata": {
    "id": "v-Bk070rBfr1"
   },
   "source": [
    "Devuelve la parte entera de la división:"
   ]
  },
  {
   "cell_type": "code",
   "execution_count": null,
   "metadata": {
    "id": "5OXaW3bbBfr1"
   },
   "outputs": [],
   "source": [
    "print(y // x) "
   ]
  },
  {
   "cell_type": "markdown",
   "metadata": {
    "id": "dx0hlc2RBfr1"
   },
   "source": [
    "Devuelve el resto:"
   ]
  },
  {
   "cell_type": "code",
   "execution_count": null,
   "metadata": {
    "id": "94CCJaImBfr2"
   },
   "outputs": [],
   "source": [
    "print(y % x)"
   ]
  },
  {
   "cell_type": "markdown",
   "metadata": {
    "id": "oafD3rcKBfr4"
   },
   "source": [
    "La **función** _type_ recibe de **argumento** una **variable** y **devuelve** su tipo"
   ]
  },
  {
   "cell_type": "code",
   "execution_count": null,
   "metadata": {
    "id": "PVyv-qkFBfr4"
   },
   "outputs": [],
   "source": [
    "type(x), type(y/x)"
   ]
  },
  {
   "cell_type": "markdown",
   "metadata": {},
   "source": [
    "## Operadores\n",
    "\n",
    "Los operadores son los signos que permiten hacer algún tipo de operación con datos, y normalmente se utilizan dentro de una *expresión* que dará algún resultado.\n",
    "\n",
    "Los más fáciles de comprender son los básicos de matemáticas:\n",
    "```python\n",
    "+\n",
    "-\n",
    "*\n",
    "/\n",
    "```\n",
    "\n",
    "Pero como has visto antes, hay también:\n",
    "```python\n",
    "//\n",
    "%\n",
    "**\n",
    "```\n",
    "\n",
    "Sin embargo, otros operadores hacen tareas como:\n",
    "**=** almacena el resultado de la expresión que hay en la derecha dentro de la variable cuyo nombre aparece en la izquierda.\n",
    "\n",
    "```python\n",
    "Numero = 4 + 2\n",
    "```\n",
    "\n",
    "**[ ]** permite construir una lista, que es una variable formada de variables.\n",
    "\n",
    "**[ ]** junto a un nombre de variable, permite acceder a una parte de esa variable:\n",
    "\n",
    "```python\n",
    "numeros = [4, 2, 0, 10]\n",
    "print(numeros[1])\n",
    "```\n",
    "> Resultado:\n",
    ">\n",
    "> 2 *(es el segundo elemento de la lista, ya que el **índice** empieza a contar por 0)*"
   ]
  },
  {
   "cell_type": "markdown",
   "metadata": {},
   "source": [
    "Como has visto, **algunos operadores dan resultado numérico, mientras que otros hacen otra cosa, como crear variables, o acceder a ellas**, o dan resultados que no son numéricos."
   ]
  },
  {
   "cell_type": "markdown",
   "metadata": {
    "id": "rM30o3GtBfr_"
   },
   "source": [
    "## Strings <a name=\"section-4\"></a>"
   ]
  },
  {
   "cell_type": "code",
   "execution_count": null,
   "metadata": {
    "hidePrompt": true,
    "id": "opYJR6lkBfr3"
   },
   "outputs": [],
   "source": [
    "un_string = 'variable de ejemplo'"
   ]
  },
  {
   "cell_type": "code",
   "execution_count": null,
   "metadata": {
    "id": "veq8y9rFBfsA"
   },
   "outputs": [],
   "source": [
    "\"dos strings se pueden \" + \"sumar\""
   ]
  },
  {
   "cell_type": "markdown",
   "metadata": {
    "id": "E4hASANGBfr5"
   },
   "source": [
    "Intentemos la siguiente suma..."
   ]
  },
  {
   "cell_type": "code",
   "execution_count": null,
   "metadata": {
    "id": "JqX5_JDlBfr6"
   },
   "outputs": [],
   "source": [
    "5 + \"10\""
   ]
  },
  {
   "cell_type": "markdown",
   "metadata": {
    "id": "IsXOCsjBBfr6"
   },
   "source": [
    "¿Qué paso?\n",
    "\n",
    "_______________________________________________________________"
   ]
  },
  {
   "cell_type": "markdown",
   "metadata": {
    "id": "p4Uq_UFABfr7"
   },
   "source": [
    "Si **convertimos** el string \"10\" a tipo int utilizando la función `int()`, entonces:"
   ]
  },
  {
   "cell_type": "code",
   "execution_count": null,
   "metadata": {
    "id": "XUzp-ZlzBfr7"
   },
   "outputs": [],
   "source": [
    "5 + int('10')"
   ]
  },
  {
   "cell_type": "markdown",
   "metadata": {
    "id": "bTbXpAaeBfsB"
   },
   "source": [
    "### Índices\n",
    "A veces necesitamos tomar fragmentos de las cadenas de texto.\n",
    "Podemos acceder a estos fragmentos mediante **índices**. Los mismos funcionan para cualquier **iterable**, que es un objeto con muchos elementos que son accesibles secuencialmente. Podemos usar los índices para acceder a una posición determinada, pasándola entre corchetes [posición]. Es IMPORTANTE recordar que en Python la primera posición tiene el índice 0 (y no 1)."
   ]
  },
  {
   "cell_type": "code",
   "execution_count": null,
   "metadata": {
    "id": "Me3g0xTEBfsB"
   },
   "outputs": [],
   "source": [
    "texto = \"programación en python\""
   ]
  },
  {
   "cell_type": "code",
   "execution_count": null,
   "metadata": {
    "id": "8PfOlozPBfsB"
   },
   "outputs": [],
   "source": [
    "texto[0]"
   ]
  },
  {
   "cell_type": "markdown",
   "metadata": {
    "id": "82sS3RLWBfsC"
   },
   "source": [
    "También podemos usar los índices para traer más de un elemento al mismo tiempo, usando el **slicing**. El slicing lleva tres parámetros: comienzo (start), final (stop) e intervalo o paso (step).\n",
    "\n",
    "- El parámetro comienzo (start) indica la primera posición incluida en la selección, por default es 0.\n",
    "\n",
    "- El parámetro final (stop) es la primera posición que NO va a estar incluída, por default se incluyen todos los elementos. \n",
    "\n",
    "- El parámetro intervalo o paso (step), es optativo e indica el tamaño del paso entre seleccionar un elemento y el siguiente, por default el paso es 1. El paso también puede ser negativo, en este caso contamos desde el final hacia el comienzo, esto es muy útil para dar vuelta los strings...\n",
    "\n",
    "    \n",
    "    [comienzo : final : intervalo] (en inglés es [start : stop : step] )\n",
    "    \n",
    "    \n",
    "El intervalo que se recibe es semi-abierto (indice_primero, indice_segundo], es decir se incluye el primero y no el segundo valor. Se admiten números negativos, que contabilizan desde el final."
   ]
  },
  {
   "cell_type": "code",
   "execution_count": null,
   "metadata": {
    "id": "DlMYh-zFBfsD"
   },
   "outputs": [],
   "source": [
    "texto[:]"
   ]
  },
  {
   "cell_type": "code",
   "execution_count": null,
   "metadata": {
    "id": "LcLb1djLBfsD"
   },
   "outputs": [],
   "source": [
    "texto[:1]"
   ]
  },
  {
   "cell_type": "code",
   "execution_count": null,
   "metadata": {
    "id": "tDF4MVzIBfsD"
   },
   "outputs": [],
   "source": [
    "texto[1:4]"
   ]
  },
  {
   "cell_type": "code",
   "execution_count": null,
   "metadata": {
    "id": "v8Ec186RBfsE"
   },
   "outputs": [],
   "source": [
    "texto[::-1]"
   ]
  },
  {
   "cell_type": "markdown",
   "metadata": {
    "id": "bP9JEfd0BfsE"
   },
   "source": [
    "Ejercicios:\n",
    "\n",
    "1- Dado ese string definido antes imprimid únicamente la palabra python usando slicing"
   ]
  },
  {
   "cell_type": "code",
   "execution_count": null,
   "metadata": {
    "id": "P_EqYsV6BfsE"
   },
   "outputs": [],
   "source": [
    "texto"
   ]
  },
  {
   "cell_type": "code",
   "execution_count": null,
   "metadata": {
    "id": "gTns8ttoBfsG"
   },
   "outputs": [],
   "source": [
    "texto[] # rellenad los corchetes con los números adecuados"
   ]
  },
  {
   "cell_type": "code",
   "execution_count": null,
   "metadata": {
    "id": "UyZUGY9EBfsG"
   },
   "outputs": [],
   "source": [
    "texto[]"
   ]
  },
  {
   "cell_type": "code",
   "execution_count": null,
   "metadata": {
    "id": "PVz4V3mQBfsH"
   },
   "outputs": [],
   "source": [
    "texto[]"
   ]
  },
  {
   "cell_type": "markdown",
   "metadata": {
    "id": "5SmabxymBfr8"
   },
   "source": [
    "## Booleanos"
   ]
  },
  {
   "cell_type": "markdown",
   "metadata": {
    "id": "yd004D48Bfr9"
   },
   "source": [
    "### Operaciones lógicas"
   ]
  },
  {
   "cell_type": "code",
   "execution_count": null,
   "metadata": {
    "id": "hffyWBMDBfr9"
   },
   "outputs": [],
   "source": [
    "print(10 >= 9)"
   ]
  },
  {
   "cell_type": "code",
   "execution_count": null,
   "metadata": {
    "id": "_Mcww2xeBfr9"
   },
   "outputs": [],
   "source": [
    "print(\"palabra\" == \"palabra\")\n",
    "print(\"otras palabras\" != \"otras palabras\") "
   ]
  },
  {
   "cell_type": "code",
   "execution_count": null,
   "metadata": {
    "id": "4einm9IrBfr-"
   },
   "outputs": [],
   "source": [
    "print(\"test\" in \"testing\")\n",
    "\n",
    "a = 'testing'\n",
    "\n",
    "print('test' in a)"
   ]
  },
  {
   "cell_type": "markdown",
   "metadata": {
    "id": "w-R0mes8Bfr_"
   },
   "source": [
    "Los operadores disponibles son: \n",
    "\n",
    "    Relacionales:\n",
    "    - >= , <=, <, > : Mayor o igual, menor o igual, mayor o menor\n",
    "    - != , == : Distinto, Igual\n",
    "    - in : Contenido por \n",
    "    Lógicos:\n",
    "    - not o ~ : Negación\n",
    "    - and o & : Ambas verdaderas\n",
    "    - or o | : Una u otra es verdadera\n",
    "    \n",
    "Como booleanos, se pueden utilizar tanto 0 y 1 como True y False."
   ]
  },
  {
   "cell_type": "markdown",
   "metadata": {
    "id": "POtltCtuBfr_"
   },
   "source": [
    "# Ejercicios <a name=\"section-3\"></a>\n",
    "\n",
    "\n",
    "1- Definid a = 5, b = 7 y c = 8\n",
    "\n",
    "Probad las siguientes operaciones booleanas:\n",
    "\n",
    "2- a > b\n",
    "\n",
    "3- a < b\n",
    "\n",
    "4- a + b < c\n",
    "\n",
    "5- (a + b > c) | (a + b < c) --> a + b o es mayor a c o es menor\n",
    "\n",
    "6- (a + b > c) & (a + b < c) --> a + b es mayor a c y es menor a c"
   ]
  },
  {
   "cell_type": "code",
   "execution_count": null,
   "metadata": {},
   "outputs": [],
   "source": [
    "# Escribe aquí debajo tu código:\n",
    "a=5\n",
    "b=7\n",
    "c=8"
   ]
  },
  {
   "cell_type": "markdown",
   "metadata": {
    "id": "P1HGQOR_BfsT"
   },
   "source": [
    "### Combinar variables y texto"
   ]
  },
  {
   "cell_type": "markdown",
   "metadata": {
    "id": "8Ur38lP0BfsT"
   },
   "source": [
    "Lo más fácil es alternar las cadenas y variables separándolas con comas.\n",
    "Existe un procedimiento que utiliza **.format()**, pero todavía no lo vamos a manejar:"
   ]
  },
  {
   "cell_type": "code",
   "execution_count": null,
   "metadata": {
    "id": "3Oje1n86BfsT"
   },
   "outputs": [],
   "source": [
    "tema = 'data science'\n",
    "modales = 'por favor'\n",
    "\n",
    "'Dame información de ', tema, ' si esta disponible, ', modales"
   ]
  },
  {
   "cell_type": "markdown",
   "metadata": {
    "id": "Jvtq6AneBfsU"
   },
   "source": [
    "### Métodos\n",
    "Son funciones que vienen ya hechas para cada tipo de datos. Un método es algo que se puede hacer con esta variable.\n",
    "\n",
    "Para usarlas se escribe el nombre de la variable, un punto, y el nombre del método (con sus paréntesis."
   ]
  },
  {
   "cell_type": "markdown",
   "metadata": {
    "id": "kJWwZSIPBfsH"
   },
   "source": [
    "Veamos algunos métodos de los strings"
   ]
  },
  {
   "cell_type": "code",
   "execution_count": null,
   "metadata": {
    "id": "gRRKjzyPBfsI"
   },
   "outputs": [],
   "source": [
    "texto.upper()"
   ]
  },
  {
   "cell_type": "code",
   "execution_count": null,
   "metadata": {
    "id": "pXPrd1TABfsI"
   },
   "outputs": [],
   "source": [
    "texto.title()"
   ]
  },
  {
   "cell_type": "code",
   "execution_count": null,
   "metadata": {
    "id": "N9bsG9c7BfsT"
   },
   "outputs": [],
   "source": [
    "texto.split() # Devuelve una lista, de ésto vamos a hablar a continuación"
   ]
  },
  {
   "cell_type": "code",
   "execution_count": null,
   "metadata": {
    "id": "3GHPXJOZBfsW"
   },
   "outputs": [],
   "source": [
    "\"1000\".isdigit()"
   ]
  },
  {
   "cell_type": "code",
   "execution_count": null,
   "metadata": {
    "id": "gMa7DM4gBfsW"
   },
   "outputs": [],
   "source": [
    "texto.replace(' ', '...')"
   ]
  },
  {
   "cell_type": "code",
   "execution_count": null,
   "metadata": {
    "id": "O7RI3VYwBfsW"
   },
   "outputs": [],
   "source": [
    "\"   quitando espacios  \".strip()"
   ]
  },
  {
   "cell_type": "code",
   "execution_count": null,
   "metadata": {
    "id": "JhB8nuURBfsX"
   },
   "outputs": [],
   "source": [
    "texto = \"Me gusta el 37\" # Pruebo el contenido de la variable \n",
    "                         # para ver si tiene solo letras\n",
    "texto.isalpha()"
   ]
  },
  {
   "cell_type": "code",
   "execution_count": null,
   "metadata": {
    "id": "MGl0IbAkBfsX"
   },
   "outputs": [],
   "source": [
    "texto = \"Yo\"\n",
    "texto.isalpha()"
   ]
  },
  {
   "cell_type": "markdown",
   "metadata": {
    "id": "eYl_TzA4BfsY"
   },
   "source": [
    "#### Ejercicios <a name=\"section-5\"></a>\n",
    "\n",
    "1- Concatenar los string \"hola\" y \"qué tal\", separando ambos strings con un espacio (Tip: un espacio es: \" \")\n",
    "\n",
    "2- Guardar el resultado anterior en una variable y pasar el texto a mayúsculas."
   ]
  },
  {
   "cell_type": "code",
   "execution_count": null,
   "metadata": {
    "id": "p-wkkqKKBfsZ"
   },
   "outputs": [],
   "source": [
    "# Ejercicio 1\n",
    "\"hola\" , \"\",\"que tal\""
   ]
  },
  {
   "cell_type": "code",
   "execution_count": null,
   "metadata": {
    "id": "as1Te2LzBfsZ"
   },
   "outputs": [],
   "source": [
    "# Ejercicio 2"
   ]
  },
  {
   "cell_type": "markdown",
   "metadata": {
    "id": "7QDKgzXwBfs2"
   },
   "source": [
    "---\n",
    "\n",
    "## Recursos y tips\n",
    "\n",
    "\n",
    "- [Google!](https://google.com)\n",
    "- [StackOverflow](https://stackoverflow.com)\n",
    "- [Google Colab](https://colab.research.google.com)\n",
    "- [Slicing](https://python-reference.readthedocs.io/en/latest/docs/brackets/slicing.html)\n",
    "--- \n",
    "\n",
    "## Tips en la práctica\n",
    "\n",
    "- Ver _docstring_ con Shift + TAB o help()\n",
    "- Leer Errores\n",
    "- Print"
   ]
  }
 ],
 "metadata": {
  "colab": {
   "name": "tipos-datos.ipynb",
   "provenance": []
  },
  "kernelspec": {
   "display_name": "Python 3 (ipykernel)",
   "language": "python",
   "name": "python3"
  },
  "language_info": {
   "codemirror_mode": {
    "name": "ipython",
    "version": 3
   },
   "file_extension": ".py",
   "mimetype": "text/x-python",
   "name": "python",
   "nbconvert_exporter": "python",
   "pygments_lexer": "ipython3",
   "version": "3.11.5"
  }
 },
 "nbformat": 4,
 "nbformat_minor": 1
}
